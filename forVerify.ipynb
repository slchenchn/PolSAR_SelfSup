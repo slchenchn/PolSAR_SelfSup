{
 "cells": [
  {
   "cell_type": "code",
   "execution_count": 3,
   "source": [
    "import os\n",
    "import os.path as osp\n",
    "import mylib.file_utils as fu\n",
    "from PIL import Image\n",
    "import numpy as np\n",
    "import matplotlib.pyplot as plt"
   ],
   "outputs": [],
   "metadata": {}
  },
  {
   "cell_type": "code",
   "execution_count": 7,
   "source": [
    "a='SN6_Train_AOI_11_Rotterdam_SAR-Intensity_20190823162315_20190823162606_tile_7868.tif'\n",
    "b = a.split('.')\n",
    "c = b[0].split('.')\n",
    "b, b[0], c"
   ],
   "outputs": [
    {
     "output_type": "execute_result",
     "data": {
      "text/plain": [
       "(['SN6_Train_AOI_11_Rotterdam_SAR-Intensity_20190823162315_20190823162606_tile_7868',\n",
       "  'tif'],\n",
       " 'SN6_Train_AOI_11_Rotterdam_SAR-Intensity_20190823162315_20190823162606_tile_7868',\n",
       " ['SN6_Train_AOI_11_Rotterdam_SAR-Intensity_20190823162315_20190823162606_tile_7868'])"
      ]
     },
     "metadata": {},
     "execution_count": 7
    }
   ],
   "metadata": {}
  },
  {
   "cell_type": "code",
   "execution_count": 2,
   "source": [
    "a = np.arange(12).reshape(2,2,3)\n",
    "b = np.array([[0, 1], [1, 0]]).astype(np.bool8)\n",
    "c = a[b]\n",
    "# d = np.tile(b, (2, 1, 1))\n",
    "# d = np.repeat(b[..., None], 2, axis=-1)\n",
    "# e = a[d]\n",
    "# print(a.shape, b.shape, c.shape, d.shape, e.shape)\n",
    "print(f'a: {a.shape}\\n{a}\\nb: {b.shape}\\n{b}\\nc: {c.shape}\\n{c}')\n",
    "print('d: {d.shape}\\n{d}')\n",
    "# print(f'e: {e.shape}\\n{e}')\n",
    "print(f'expanded b:{b[..., None].shape}\\n{b[..., None]}')"
   ],
   "outputs": [
    {
     "output_type": "stream",
     "name": "stdout",
     "text": [
      "a: (2, 2, 3)\n",
      "[[[ 0  1  2]\n",
      "  [ 3  4  5]]\n",
      "\n",
      " [[ 6  7  8]\n",
      "  [ 9 10 11]]]\n",
      "b: (2, 2)\n",
      "[[False  True]\n",
      " [ True False]]\n",
      "c: (2, 3)\n",
      "[[3 4 5]\n",
      " [6 7 8]]\n",
      "d: {d.shape}\n",
      "{d}\n",
      "expanded b:(2, 2, 1)\n",
      "[[[False]\n",
      "  [ True]]\n",
      "\n",
      " [[ True]\n",
      "  [False]]]\n"
     ]
    }
   ],
   "metadata": {}
  },
  {
   "cell_type": "code",
   "execution_count": 5,
   "source": [
    "img_path = r'/data/csl/SN6_full/SAR-PRO/SN6_Train_AOI_11_Rotterdam_SAR-Intensity_20190822092149_20190822092450_tile_1697.tif'\n",
    "mask_path = r'/data/csl/SN6_sup/slic_mask/SN6_Train_AOI_11_Rotterdam_SAR-Intensity_20190822092149_20190822092450_tile_1697.png'\n",
    "img = Image.open(img_path)\n",
    "mask = Image.open(mask_path)"
   ],
   "outputs": [],
   "metadata": {}
  },
  {
   "cell_type": "code",
   "execution_count": 18,
   "source": [
    "nimg = np.asarray(img)\n",
    "nmask = np.asarray(mask)\n",
    "nimg.shape, nimg.max(), nimg.min(), nmask.shape, nmask.max(), nmask.min()"
   ],
   "outputs": [
    {
     "output_type": "execute_result",
     "data": {
      "text/plain": [
       "((900, 900, 3), 224, 0, (900, 900), 92, 0)"
      ]
     },
     "metadata": {},
     "execution_count": 18
    }
   ],
   "metadata": {}
  },
  {
   "cell_type": "code",
   "execution_count": 15,
   "source": [
    "def cat_pil_images(images, axis):\n",
    "    arrays = [np.asarray(img) for img in images]\n",
    "    arrays = [arr if arr.ndim==3 else arr[..., None] for arr in arrays]\n",
    "    array = np.concatenate(arrays, axis=axis)\n",
    "    return Image.fromarray(array)\n",
    "mix = cat_pil_images((img, mask), axis=-1)\n"
   ],
   "outputs": [],
   "metadata": {}
  },
  {
   "cell_type": "code",
   "execution_count": 17,
   "source": [
    "nmix = np.asarray(mix)\n",
    "nmix.shape, nmix.max(), nmix.min()"
   ],
   "outputs": [
    {
     "output_type": "execute_result",
     "data": {
      "text/plain": [
       "((900, 900, 4), 224, 0)"
      ]
     },
     "metadata": {},
     "execution_count": 17
    }
   ],
   "metadata": {}
  },
  {
   "cell_type": "code",
   "execution_count": null,
   "source": [],
   "outputs": [],
   "metadata": {}
  }
 ],
 "metadata": {
  "orig_nbformat": 4,
  "language_info": {
   "name": "python",
   "version": "3.7.11",
   "mimetype": "text/x-python",
   "codemirror_mode": {
    "name": "ipython",
    "version": 3
   },
   "pygments_lexer": "ipython3",
   "nbconvert_exporter": "python",
   "file_extension": ".py"
  },
  "kernelspec": {
   "name": "python3",
   "display_name": "Python 3.7.11 64-bit ('openselfsup': conda)"
  },
  "interpreter": {
   "hash": "bca048c0d674ada0bcd9b17690cb2c9982085ad5301335b21862b193b308a9fb"
  }
 },
 "nbformat": 4,
 "nbformat_minor": 2
}