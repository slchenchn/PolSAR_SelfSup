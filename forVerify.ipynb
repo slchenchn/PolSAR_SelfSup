{
 "cells": [
  {
   "cell_type": "code",
   "execution_count": 8,
   "source": [
    "import os\n",
    "import os.path as osp\n",
    "import mylib.file_utils as fu\n",
    "from PIL import Image\n",
    "import numpy as np\n",
    "import matplotlib.pyplot as plt"
   ],
   "outputs": [],
   "metadata": {}
  },
  {
   "cell_type": "code",
   "execution_count": 14,
   "source": [
    "img_path = r'/home/csl/code/preprocess/data/SN6_full/SAR-PRO/SN6_Train_AOI_11_Rotterdam_SAR-Intensity_20190822092149_20190822092450_tile_1697.tif'\n",
    "mask_path = r'/home/csl/code/preprocess/data/SN6_sup/slic_mask/SN6_Train_AOI_11_Rotterdam_SAR-Intensity_20190822092149_20190822092450_tile_1697.png'\n",
    "img = Image.open(img_path)\n",
    "mask = Image.open(mask_path)"
   ],
   "outputs": [],
   "metadata": {}
  },
  {
   "cell_type": "code",
   "execution_count": 15,
   "source": [
    "np.asarray(img).shape, np.asarray(mask).shape"
   ],
   "outputs": [
    {
     "output_type": "execute_result",
     "data": {
      "text/plain": [
       "((900, 900, 3), (900, 900, 3))"
      ]
     },
     "metadata": {},
     "execution_count": 15
    }
   ],
   "metadata": {}
  },
  {
   "cell_type": "code",
   "execution_count": null,
   "source": [],
   "outputs": [],
   "metadata": {}
  }
 ],
 "metadata": {
  "orig_nbformat": 4,
  "language_info": {
   "name": "python",
   "version": "3.7.11",
   "mimetype": "text/x-python",
   "codemirror_mode": {
    "name": "ipython",
    "version": 3
   },
   "pygments_lexer": "ipython3",
   "nbconvert_exporter": "python",
   "file_extension": ".py"
  },
  "kernelspec": {
   "name": "python3",
   "display_name": "Python 3.7.11 64-bit ('openselfsup': conda)"
  },
  "interpreter": {
   "hash": "bca048c0d674ada0bcd9b17690cb2c9982085ad5301335b21862b193b308a9fb"
  }
 },
 "nbformat": 4,
 "nbformat_minor": 2
}