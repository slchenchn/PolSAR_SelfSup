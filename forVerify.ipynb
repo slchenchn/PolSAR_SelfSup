{
 "cells": [
  {
   "cell_type": "code",
   "execution_count": 1,
   "source": [
    "import os\n",
    "import os.path as osp\n",
    "import mylib.file_utils as fu\n",
    "from PIL import Image\n",
    "import numpy as np\n",
    "import matplotlib.pyplot as plt"
   ],
   "outputs": [],
   "metadata": {}
  },
  {
   "cell_type": "code",
   "execution_count": 5,
   "source": [
    "img_path = r'/data/csl/SN6_full/SAR-PRO/SN6_Train_AOI_11_Rotterdam_SAR-Intensity_20190822092149_20190822092450_tile_1697.tif'\n",
    "mask_path = r'/data/csl/SN6_sup/slic_mask/SN6_Train_AOI_11_Rotterdam_SAR-Intensity_20190822092149_20190822092450_tile_1697.png'\n",
    "img = Image.open(img_path)\n",
    "mask = Image.open(mask_path)"
   ],
   "outputs": [],
   "metadata": {}
  },
  {
   "cell_type": "code",
   "execution_count": 18,
   "source": [
    "nimg = np.asarray(img)\n",
    "nmask = np.asarray(mask)\n",
    "nimg.shape, nimg.max(), nimg.min(), nmask.shape, nmask.max(), nmask.min()"
   ],
   "outputs": [
    {
     "output_type": "execute_result",
     "data": {
      "text/plain": [
       "((900, 900, 3), 224, 0, (900, 900), 92, 0)"
      ]
     },
     "metadata": {},
     "execution_count": 18
    }
   ],
   "metadata": {}
  },
  {
   "cell_type": "code",
   "execution_count": 15,
   "source": [
    "def cat_pil_images(images, axis):\n",
    "    arrays = [np.asarray(img) for img in images]\n",
    "    arrays = [arr if arr.ndim==3 else arr[..., None] for arr in arrays]\n",
    "    array = np.concatenate(arrays, axis=axis)\n",
    "    return Image.fromarray(array)\n",
    "mix = cat_pil_images((img, mask), axis=-1)\n"
   ],
   "outputs": [],
   "metadata": {}
  },
  {
   "cell_type": "code",
   "execution_count": 17,
   "source": [
    "nmix = np.asarray(mix)\n",
    "nmix.shape, nmix.max(), nmix.min()"
   ],
   "outputs": [
    {
     "output_type": "execute_result",
     "data": {
      "text/plain": [
       "((900, 900, 4), 224, 0)"
      ]
     },
     "metadata": {},
     "execution_count": 17
    }
   ],
   "metadata": {}
  },
  {
   "cell_type": "code",
   "execution_count": null,
   "source": [],
   "outputs": [],
   "metadata": {}
  }
 ],
 "metadata": {
  "orig_nbformat": 4,
  "language_info": {
   "name": "python",
   "version": "3.7.11",
   "mimetype": "text/x-python",
   "codemirror_mode": {
    "name": "ipython",
    "version": 3
   },
   "pygments_lexer": "ipython3",
   "nbconvert_exporter": "python",
   "file_extension": ".py"
  },
  "kernelspec": {
   "name": "python3",
   "display_name": "Python 3.7.11 64-bit ('openselfsup': conda)"
  },
  "interpreter": {
   "hash": "bca048c0d674ada0bcd9b17690cb2c9982085ad5301335b21862b193b308a9fb"
  }
 },
 "nbformat": 4,
 "nbformat_minor": 2
}